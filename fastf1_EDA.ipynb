{
  "nbformat": 4,
  "nbformat_minor": 0,
  "metadata": {
    "colab": {
      "provenance": [],
      "authorship_tag": "ABX9TyNAHJux8XB9a/ZliDfwcF4I",
      "include_colab_link": true
    },
    "kernelspec": {
      "name": "python3",
      "display_name": "Python 3"
    },
    "language_info": {
      "name": "python"
    }
  },
  "cells": [
    {
      "cell_type": "markdown",
      "metadata": {
        "id": "view-in-github",
        "colab_type": "text"
      },
      "source": [
        "<a href=\"https://colab.research.google.com/github/tejasrinivas20/FastF1_EDA/blob/main/fastf1_EDA.ipynb\" target=\"_parent\"><img src=\"https://colab.research.google.com/assets/colab-badge.svg\" alt=\"Open In Colab\"/></a>"
      ]
    },
    {
      "cell_type": "code",
      "execution_count": null,
      "metadata": {
        "id": "BZ8NTOOg5A9D"
      },
      "outputs": [],
      "source": [
        "!pip install fastf1"
      ]
    },
    {
      "cell_type": "code",
      "source": [
        "import fastf1\n",
        "sesh=fastf1.get_session(2021,'Monza','Q')\n",
        "sesh.name # Type of event\n",
        "sesh.date # Date of the event\n",
        "sesh.event # Absolute data of the event\n"
      ],
      "metadata": {
        "id": "udaz87fX5goZ"
      },
      "execution_count": null,
      "outputs": []
    },
    {
      "cell_type": "code",
      "source": [
        "print(sesh.event['EventFormat'])"
      ],
      "metadata": {
        "colab": {
          "base_uri": "https://localhost:8080/"
        },
        "id": "Jmkl7mpn7b_x",
        "outputId": "ba13e223-41f6-4e69-887b-04117caeefd0"
      },
      "execution_count": null,
      "outputs": [
        {
          "output_type": "stream",
          "name": "stdout",
          "text": [
            "sprint\n"
          ]
        }
      ]
    },
    {
      "cell_type": "code",
      "source": [
        "x=fastf1.get_event(2022,14)\n",
        "x"
      ],
      "metadata": {
        "id": "C2aJmUSt8RnO"
      },
      "execution_count": null,
      "outputs": []
    },
    {
      "cell_type": "code",
      "source": [
        "x=fastf1"
      ],
      "metadata": {
        "id": "8VzQa90A8x-V"
      },
      "execution_count": null,
      "outputs": []
    }
  ]
}